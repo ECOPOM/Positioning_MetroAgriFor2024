{
 "cells": [
  {
   "cell_type": "markdown",
   "metadata": {},
   "source": [
    "# aggregation of related files \n",
    "\n",
    "> NOTE: before renaming"
   ]
  },
  {
   "cell_type": "code",
   "execution_count": 3,
   "metadata": {},
   "outputs": [],
   "source": [
    "import os\n",
    "import shutil"
   ]
  },
  {
   "cell_type": "code",
   "execution_count": 30,
   "metadata": {},
   "outputs": [],
   "source": [
    "def files_aggregation(directory):\n",
    "\n",
    "    files = os.listdir(directory)\n",
    "\n",
    "    # find color images files\n",
    "    for file in [file for file in files if file.find('img') != -1 and file.find('.json') == -1]:\n",
    "\n",
    "        # related files\n",
    "        depth_file = file.replace('img', 'depth')\n",
    "        json_file = file + '.json'\n",
    "\n",
    "        # dest folder\n",
    "        folder = f'../data/new_data/{os.path.basename(directory).upper()}/{file[:-4]}'\n",
    "        os.makedirs(folder, exist_ok=True)\n",
    "\n",
    "        # files to populate the folder with\n",
    "        for file2copy in [file, depth_file, json_file]:\n",
    "\n",
    "            # copy file\n",
    "            shutil.copy(os.path.join(directory, file2copy), \n",
    "                        dst= os.path.join(folder, file2copy))\n",
    "            \n",
    "if __name__ == '__main__':\n",
    "    folders = [\n",
    "        '/media/mirko/Volume/GITHUB/Positioning_IEEE2024/GB_analysis/CODE_Data/2d',\n",
    "        '/media/mirko/Volume/GITHUB/Positioning_IEEE2024/GB_analysis/CODE_Data/3d'\n",
    "    ]\n",
    "\n",
    "    for directory in folders:\n",
    "        files_aggregation(directory)"
   ]
  }
 ],
 "metadata": {
  "kernelspec": {
   "display_name": "env",
   "language": "python",
   "name": "python3"
  },
  "language_info": {
   "codemirror_mode": {
    "name": "ipython",
    "version": 3
   },
   "file_extension": ".py",
   "mimetype": "text/x-python",
   "name": "python",
   "nbconvert_exporter": "python",
   "pygments_lexer": "ipython3",
   "version": "3.10.12"
  }
 },
 "nbformat": 4,
 "nbformat_minor": 2
}
