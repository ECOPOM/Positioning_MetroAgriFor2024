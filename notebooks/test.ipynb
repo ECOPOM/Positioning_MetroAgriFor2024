{
 "cells": [
  {
   "cell_type": "markdown",
   "metadata": {},
   "source": [
    "# undersanding how to correct perspective"
   ]
  },
  {
   "cell_type": "markdown",
   "metadata": {},
   "source": [
    "+ [link](https://dev.intelrealsense.com/docs/projection-texture-mapping-and-occlusion-with-intel-realsense-depth-cameras)"
   ]
  },
  {
   "cell_type": "code",
   "execution_count": 1,
   "metadata": {},
   "outputs": [],
   "source": [
    "import numpy as np\n",
    "import cv2"
   ]
  },
  {
   "cell_type": "code",
   "execution_count": 3,
   "metadata": {},
   "outputs": [],
   "source": [
    "def depth_to_point_cloud(depth_image, rgb_image, intrinsics):\n",
    "    height, width = depth_image.shape\n",
    "\n",
    "    # Parametri intrinseci\n",
    "    f_x, f_y = intrinsics['f_x'], intrinsics['f_y']\n",
    "    c_x, c_y = intrinsics['c_x'], intrinsics['c_y']\n",
    "\n",
    "    # Crea una meshgrid delle coordinate dei pixel\n",
    "    u, v = np.meshgrid(np.arange(width), np.arange(height))\n",
    "\n",
    "    # print(u.shape)\n",
    "    # print(v.shape)\n",
    "\n",
    "\n",
    "\n",
    "    # Calcola le coordinate 3D\n",
    "    X = (u - c_x) * depth_image / f_x\n",
    "    Y = (v - c_y) * depth_image / f_y\n",
    "    Z = depth_image\n",
    "\n",
    "\n",
    "    # print(X.shape)\n",
    "    # print(Y.shape)\n",
    "    # print(Z.shape)\n",
    "    # print(Z.size)\n",
    "    \n",
    "\n",
    "\n",
    "\n",
    "    # Impila le coordinate X, Y, Z\n",
    "    points = np.stack((X, Y, Z), axis=-1).reshape(-1, 3)\n",
    "\n",
    "    # print(points.shape)\n",
    "\n",
    "    # Ottieni i valori RGB\n",
    "    rgb_values = rgb_image.reshape(-1, 3)\n",
    "\n",
    "    # Combina coordinate e colori in un unico array\n",
    "    point_cloud = np.hstack((points, rgb_values))\n",
    "\n",
    "\n",
    "    # reshape the data to have x, y values to navigate the channel values:\n",
    "    # -  x[mm] (with respect to center of the frame)\n",
    "    # -  y[mm]\n",
    "    # -  z[mm]\n",
    "    # -  red\n",
    "    # -  green\n",
    "    # -  blue\n",
    "    point_cloud2 = point_cloud.reshape((depth_image.shape[0], depth_image.shape[1], len(point_cloud[0]) ))\n",
    "  \n",
    "    return point_cloud2"
   ]
  },
  {
   "cell_type": "code",
   "execution_count": 4,
   "metadata": {},
   "outputs": [
    {
     "name": "stdout",
     "output_type": "stream",
     "text": [
      "(1920, 1080, 6)\n",
      "-1133.6844084616955\n",
      "1146.1436823124805\n"
     ]
    }
   ],
   "source": [
    "col3D = '../data/3D/1_1_6_0/color_1_6_0.png'\n",
    "depth3D = '../data/3D/1_1_6_0/depth_1_6_0.png'\n",
    "\n",
    "\n",
    "col3D = cv2.imread(col3D)\n",
    "depth3D = cv2.imread(depth3D, cv2.IMREAD_ANYDEPTH)\n",
    "\n",
    "# matrice K is intrinsics - per proiettare il pixel in punto xyz\n",
    "intrinsics = {'f_x': 322.282410, 'f_y': 322.282410, 'c_x': 320.818268, 'c_y': 178.779297}\n",
    "\n",
    "\n",
    "point_cloud = depth_to_point_cloud(depth3D, col3D, intrinsics)\n",
    "print(point_cloud.shape)\n",
    "\n",
    "\n",
    "bboxF = np.array([[37, 160], [104, 235]])\n",
    "bboxT = np.array([[546,1770], [ 575,1871]])\n",
    "print(np.mean(point_cloud[bboxF[0][1] : bboxF[1][1], bboxF[0][0] : bboxF[1][0], 0]))\n",
    "print(np.mean(point_cloud[bboxT[0][1] : bboxT[1][1], bboxT[0][0] : bboxT[1][0], 0]))\n",
    "\n",
    "\n"
   ]
  }
 ],
 "metadata": {
  "kernelspec": {
   "display_name": "env",
   "language": "python",
   "name": "python3"
  },
  "language_info": {
   "codemirror_mode": {
    "name": "ipython",
    "version": 3
   },
   "file_extension": ".py",
   "mimetype": "text/x-python",
   "name": "python",
   "nbconvert_exporter": "python",
   "pygments_lexer": "ipython3",
   "version": "3.10.12"
  }
 },
 "nbformat": 4,
 "nbformat_minor": 2
}
