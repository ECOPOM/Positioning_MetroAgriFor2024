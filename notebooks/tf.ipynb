{
 "cells": [
  {
   "cell_type": "code",
   "execution_count": 1,
   "metadata": {},
   "outputs": [],
   "source": [
    "import numpy as np"
   ]
  },
  {
   "cell_type": "markdown",
   "metadata": {},
   "source": [
    "get the coordinate sign"
   ]
  },
  {
   "cell_type": "code",
   "execution_count": 16,
   "metadata": {},
   "outputs": [],
   "source": [
    "def getSign(position):\n",
    "    v = np.where(np.array(position) < 0, -1, 1)\n",
    "    return v"
   ]
  },
  {
   "cell_type": "markdown",
   "metadata": {},
   "source": [
    "matrix to shift the object in the 3D space"
   ]
  },
  {
   "cell_type": "code",
   "execution_count": 29,
   "metadata": {},
   "outputs": [],
   "source": [
    "def obj_shift(position, size):\n",
    "    def getSign(position):\n",
    "        v = np.where(np.array(position) < 0, -1, 1)\n",
    "        return v\n",
    "\n",
    "    # make movement based on position \n",
    "    sign = getSign(position)\n",
    "    size = np.multiply(sign, np.array(size))\n",
    "    # shifting matrix - half of th eobject size\n",
    "    m = np.array([[1, 0, 0, size[0]/2],\n",
    "                [0, 1, 0, size[1]/2],\n",
    "                [0, 0, 1, size[2]/2],\n",
    "                [0, 0, 0, 0]])\n",
    "\n",
    "    # homogeneous coordinate\n",
    "    v = np.append(np.array(position), 1)\n",
    "\n",
    "    return np.dot(m, v)[0:3]"
   ]
  },
  {
   "cell_type": "code",
   "execution_count": 28,
   "metadata": {},
   "outputs": [
    {
     "data": {
      "text/plain": [
       "array([0.525, 0.03 , 1.035])"
      ]
     },
     "execution_count": 28,
     "metadata": {},
     "output_type": "execute_result"
    }
   ],
   "source": [
    "position = [0.5, 0, 1.0]\n",
    "size = (0.05, 0.06, 0.07)\n",
    "\n",
    "obj_shift(position=position, size=size)"
   ]
  }
 ],
 "metadata": {
  "kernelspec": {
   "display_name": "env",
   "language": "python",
   "name": "python3"
  },
  "language_info": {
   "codemirror_mode": {
    "name": "ipython",
    "version": 3
   },
   "file_extension": ".py",
   "mimetype": "text/x-python",
   "name": "python",
   "nbconvert_exporter": "python",
   "pygments_lexer": "ipython3",
   "version": "3.10.12"
  }
 },
 "nbformat": 4,
 "nbformat_minor": 2
}
